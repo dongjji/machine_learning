{
 "cells": [
  {
   "cell_type": "markdown",
   "metadata": {
    "colab_type": "text",
    "id": "2HnMIcbK7wph"
   },
   "source": [
    "# 기계학습과 인공신경망 10장: RNN 실습\n",
    "\n",
    "본 내용은 아래 참고 링크에서 가져온 것이며 더 자세한 설명은 아래 링크에서 확인 가능.\n",
    "\n",
    "참고 링크: https://datascienceschool.net/view-notebook/1d93b9dc6c624fbaa6af2ce9290e2479/\n"
   ]
  },
  {
   "cell_type": "code",
   "execution_count": 20,
   "metadata": {},
   "outputs": [],
   "source": [
    "from __future__ import absolute_import, division, print_function, unicode_literals\n",
    "import tensorflow as tf\n",
    "\n",
    "from tensorflow.keras.layers import Dense, Flatten, Conv2D\n",
    "from tensorflow.keras import Model\n",
    "import numpy as np\n",
    "import matplotlib.pyplot as plt\n",
    "from scipy.linalg import toeplitz\n"
   ]
  },
  {
   "cell_type": "markdown",
   "metadata": {
    "colab_type": "text",
    "id": "fpAt0tdQ6_CB"
   },
   "source": [
    "# 0. 사용할 데이터 생성"
   ]
  },
  {
   "cell_type": "markdown",
   "metadata": {
    "colab_type": "text",
    "id": "nDI74p337dPP"
   },
   "source": [
    "(1) 실험 파라미터 설정 및 sequence 데이터 생성"
   ]
  },
  {
   "cell_type": "code",
   "execution_count": 21,
   "metadata": {
    "colab": {},
    "colab_type": "code",
    "id": "-xE11vv2qzoE"
   },
   "outputs": [
    {
     "data": {
      "image/png": "[encoded data removed]",
      "text/plain": [
       "<Figure size 432x288 with 1 Axes>"
      ]
     },
     "metadata": {
      "needs_background": "light"
     },
     "output_type": "display_data"
    }
   ],
   "source": [
    "## Some (hyper) parameters\n",
    "FREQ = 0.125\n",
    "N_samples = 20\n",
    "N_timesteps = 3\n",
    "\n",
    "s = np.sin(2 * np.pi * FREQ * np.arange(N_samples)) \n",
    "## Add some noise\n",
    "# s += 0.1*np.random.randn(N_samples)\n",
    "plt.plot(s, 'ro-')\n",
    "plt.show()"
   ]
  },
  {
   "cell_type": "markdown",
   "metadata": {
    "colab_type": "text",
    "id": "ep4cKmsX7Pyk"
   },
   "source": [
    "(2) Sequence를 다루려면 Toeplitz 행렬형으로 바꿔야 ..."
   ]
  },
  {
   "cell_type": "code",
   "execution_count": 22,
   "metadata": {
    "colab": {},
    "colab_type": "code",
    "id": "kAId4WXuqPg7"
   },
   "outputs": [],
   "source": [
    "c = np.r_[s[-1], np.zeros(s.shape[0] - 2)]\n",
    "r = s[::-1]\n",
    "S = np.fliplr(toeplitz(c, r))"
   ]
  },
  {
   "cell_type": "code",
   "execution_count": 23,
   "metadata": {
    "colab": {},
    "colab_type": "code",
    "id": "yfQiMy31qPY9"
   },
   "outputs": [
    {
     "data": {
      "text/plain": [
       "array([[ 0.00000000e+00,  7.07106781e-01,  1.00000000e+00,\n",
       "         7.07106781e-01,  1.22464680e-16, -7.07106781e-01,\n",
       "        -1.00000000e+00, -7.07106781e-01, -2.44929360e-16,\n",
       "         7.07106781e-01,  1.00000000e+00,  7.07106781e-01,\n",
       "         3.67394040e-16, -7.07106781e-01, -1.00000000e+00,\n",
       "        -7.07106781e-01, -4.89858720e-16,  7.07106781e-01,\n",
       "         1.00000000e+00,  7.07106781e-01],\n",
       "       [ 7.07106781e-01,  1.00000000e+00,  7.07106781e-01,\n",
       "         1.22464680e-16, -7.07106781e-01, -1.00000000e+00,\n",
       "        -7.07106781e-01, -2.44929360e-16,  7.07106781e-01,\n",
       "         1.00000000e+00,  7.07106781e-01,  3.67394040e-16,\n",
       "        -7.07106781e-01, -1.00000000e+00, -7.07106781e-01,\n",
       "        -4.89858720e-16,  7.07106781e-01,  1.00000000e+00,\n",
       "         7.07106781e-01,  0.00000000e+00],\n",
       "       [ 1.00000000e+00,  7.07106781e-01,  1.22464680e-16,\n",
       "        -7.07106781e-01, -1.00000000e+00, -7.07106781e-01,\n",
       "        -2.44929360e-16,  7.07106781e-01,  1.00000000e+00,\n",
       "         7.07106781e-01,  3.67394040e-16, -7.07106781e-01,\n",
       "        -1.00000000e+00, -7.07106781e-01, -4.89858720e-16,\n",
       "         7.07106781e-01,  1.00000000e+00,  7.07106781e-01,\n",
       "         0.00000000e+00,  0.00000000e+00],\n",
       "       [ 7.07106781e-01,  1.22464680e-16, -7.07106781e-01,\n",
       "        -1.00000000e+00, -7.07106781e-01, -2.44929360e-16,\n",
       "         7.07106781e-01,  1.00000000e+00,  7.07106781e-01,\n",
       "         3.67394040e-16, -7.07106781e-01, -1.00000000e+00,\n",
       "        -7.07106781e-01, -4.89858720e-16,  7.07106781e-01,\n",
       "         1.00000000e+00,  7.07106781e-01,  0.00000000e+00,\n",
       "         0.00000000e+00,  0.00000000e+00],\n",
       "       [ 1.22464680e-16, -7.07106781e-01, -1.00000000e+00,\n",
       "        -7.07106781e-01, -2.44929360e-16,  7.07106781e-01,\n",
       "         1.00000000e+00,  7.07106781e-01,  3.67394040e-16,\n",
       "        -7.07106781e-01, -1.00000000e+00, -7.07106781e-01,\n",
       "        -4.89858720e-16,  7.07106781e-01,  1.00000000e+00,\n",
       "         7.07106781e-01,  0.00000000e+00,  0.00000000e+00,\n",
       "         0.00000000e+00,  0.00000000e+00],\n",
       "       [-7.07106781e-01, -1.00000000e+00, -7.07106781e-01,\n",
       "        -2.44929360e-16,  7.07106781e-01,  1.00000000e+00,\n",
       "         7.07106781e-01,  3.67394040e-16, -7.07106781e-01,\n",
       "        -1.00000000e+00, -7.07106781e-01, -4.89858720e-16,\n",
       "         7.07106781e-01,  1.00000000e+00,  7.07106781e-01,\n",
       "         0.00000000e+00,  0.00000000e+00,  0.00000000e+00,\n",
       "         0.00000000e+00,  0.00000000e+00],\n",
       "       [-1.00000000e+00, -7.07106781e-01, -2.44929360e-16,\n",
       "         7.07106781e-01,  1.00000000e+00,  7.07106781e-01,\n",
       "         3.67394040e-16, -7.07106781e-01, -1.00000000e+00,\n",
       "        -7.07106781e-01, -4.89858720e-16,  7.07106781e-01,\n",
       "         1.00000000e+00,  7.07106781e-01,  0.00000000e+00,\n",
       "         0.00000000e+00,  0.00000000e+00,  0.00000000e+00,\n",
       "         0.00000000e+00,  0.00000000e+00],\n",
       "       [-7.07106781e-01, -2.44929360e-16,  7.07106781e-01,\n",
       "         1.00000000e+00,  7.07106781e-01,  3.67394040e-16,\n",
       "        -7.07106781e-01, -1.00000000e+00, -7.07106781e-01,\n",
       "        -4.89858720e-16,  7.07106781e-01,  1.00000000e+00,\n",
       "         7.07106781e-01,  0.00000000e+00,  0.00000000e+00,\n",
       "         0.00000000e+00,  0.00000000e+00,  0.00000000e+00,\n",
       "         0.00000000e+00,  0.00000000e+00],\n",
       "       [-2.44929360e-16,  7.07106781e-01,  1.00000000e+00,\n",
       "         7.07106781e-01,  3.67394040e-16, -7.07106781e-01,\n",
       "        -1.00000000e+00, -7.07106781e-01, -4.89858720e-16,\n",
       "         7.07106781e-01,  1.00000000e+00,  7.07106781e-01,\n",
       "         0.00000000e+00,  0.00000000e+00,  0.00000000e+00,\n",
       "         0.00000000e+00,  0.00000000e+00,  0.00000000e+00,\n",
       "         0.00000000e+00,  0.00000000e+00],\n",
       "       [ 7.07106781e-01,  1.00000000e+00,  7.07106781e-01,\n",
       "         3.67394040e-16, -7.07106781e-01, -1.00000000e+00,\n",
       "        -7.07106781e-01, -4.89858720e-16,  7.07106781e-01,\n",
       "         1.00000000e+00,  7.07106781e-01,  0.00000000e+00,\n",
       "         0.00000000e+00,  0.00000000e+00,  0.00000000e+00,\n",
       "         0.00000000e+00,  0.00000000e+00,  0.00000000e+00,\n",
       "         0.00000000e+00,  0.00000000e+00],\n",
       "       [ 1.00000000e+00,  7.07106781e-01,  3.67394040e-16,\n",
       "        -7.07106781e-01, -1.00000000e+00, -7.07106781e-01,\n",
       "        -4.89858720e-16,  7.07106781e-01,  1.00000000e+00,\n",
       "         7.07106781e-01,  0.00000000e+00,  0.00000000e+00,\n",
       "         0.00000000e+00,  0.00000000e+00,  0.00000000e+00,\n",
       "         0.00000000e+00,  0.00000000e+00,  0.00000000e+00,\n",
       "         0.00000000e+00,  0.00000000e+00],\n",
       "       [ 7.07106781e-01,  3.67394040e-16, -7.07106781e-01,\n",
       "        -1.00000000e+00, -7.07106781e-01, -4.89858720e-16,\n",
       "         7.07106781e-01,  1.00000000e+00,  7.07106781e-01,\n",
       "         0.00000000e+00,  0.00000000e+00,  0.00000000e+00,\n",
       "         0.00000000e+00,  0.00000000e+00,  0.00000000e+00,\n",
       "         0.00000000e+00,  0.00000000e+00,  0.00000000e+00,\n",
       "         0.00000000e+00,  0.00000000e+00],\n",
       "       [ 3.67394040e-16, -7.07106781e-01, -1.00000000e+00,\n",
       "        -7.07106781e-01, -4.89858720e-16,  7.07106781e-01,\n",
       "         1.00000000e+00,  7.07106781e-01,  0.00000000e+00,\n",
       "         0.00000000e+00,  0.00000000e+00,  0.00000000e+00,\n",
       "         0.00000000e+00,  0.00000000e+00,  0.00000000e+00,\n",
       "         0.00000000e+00,  0.00000000e+00,  0.00000000e+00,\n",
       "         0.00000000e+00,  0.00000000e+00],\n",
       "       [-7.07106781e-01, -1.00000000e+00, -7.07106781e-01,\n",
       "        -4.89858720e-16,  7.07106781e-01,  1.00000000e+00,\n",
       "         7.07106781e-01,  0.00000000e+00,  0.00000000e+00,\n",
       "         0.00000000e+00,  0.00000000e+00,  0.00000000e+00,\n",
       "         0.00000000e+00,  0.00000000e+00,  0.00000000e+00,\n",
       "         0.00000000e+00,  0.00000000e+00,  0.00000000e+00,\n",
       "         0.00000000e+00,  0.00000000e+00],\n",
       "       [-1.00000000e+00, -7.07106781e-01, -4.89858720e-16,\n",
       "         7.07106781e-01,  1.00000000e+00,  7.07106781e-01,\n",
       "         0.00000000e+00,  0.00000000e+00,  0.00000000e+00,\n",
       "         0.00000000e+00,  0.00000000e+00,  0.00000000e+00,\n",
       "         0.00000000e+00,  0.00000000e+00,  0.00000000e+00,\n",
       "         0.00000000e+00,  0.00000000e+00,  0.00000000e+00,\n",
       "         0.00000000e+00,  0.00000000e+00],\n",
       "       [-7.07106781e-01, -4.89858720e-16,  7.07106781e-01,\n",
       "         1.00000000e+00,  7.07106781e-01,  0.00000000e+00,\n",
       "         0.00000000e+00,  0.00000000e+00,  0.00000000e+00,\n",
       "         0.00000000e+00,  0.00000000e+00,  0.00000000e+00,\n",
       "         0.00000000e+00,  0.00000000e+00,  0.00000000e+00,\n",
       "         0.00000000e+00,  0.00000000e+00,  0.00000000e+00,\n",
       "         0.00000000e+00,  0.00000000e+00],\n",
       "       [-4.89858720e-16,  7.07106781e-01,  1.00000000e+00,\n",
       "         7.07106781e-01,  0.00000000e+00,  0.00000000e+00,\n",
       "         0.00000000e+00,  0.00000000e+00,  0.00000000e+00,\n",
       "         0.00000000e+00,  0.00000000e+00,  0.00000000e+00,\n",
       "         0.00000000e+00,  0.00000000e+00,  0.00000000e+00,\n",
       "         0.00000000e+00,  0.00000000e+00,  0.00000000e+00,\n",
       "         0.00000000e+00,  0.00000000e+00],\n",
       "       [ 7.07106781e-01,  1.00000000e+00,  7.07106781e-01,\n",
       "         0.00000000e+00,  0.00000000e+00,  0.00000000e+00,\n",
       "         0.00000000e+00,  0.00000000e+00,  0.00000000e+00,\n",
       "         0.00000000e+00,  0.00000000e+00,  0.00000000e+00,\n",
       "         0.00000000e+00,  0.00000000e+00,  0.00000000e+00,\n",
       "         0.00000000e+00,  0.00000000e+00,  0.00000000e+00,\n",
       "         0.00000000e+00,  0.00000000e+00],\n",
       "       [ 1.00000000e+00,  7.07106781e-01,  0.00000000e+00,\n",
       "         0.00000000e+00,  0.00000000e+00,  0.00000000e+00,\n",
       "         0.00000000e+00,  0.00000000e+00,  0.00000000e+00,\n",
       "         0.00000000e+00,  0.00000000e+00,  0.00000000e+00,\n",
       "         0.00000000e+00,  0.00000000e+00,  0.00000000e+00,\n",
       "         0.00000000e+00,  0.00000000e+00,  0.00000000e+00,\n",
       "         0.00000000e+00,  0.00000000e+00]])"
      ]
     },
     "execution_count": 23,
     "metadata": {},
     "output_type": "execute_result"
    }
   ],
   "source": [
    "S"
   ]
  },
  {
   "cell_type": "markdown",
   "metadata": {
    "colab_type": "text",
    "id": "RWmynBJO43Vg"
   },
   "source": [
    "# 1. Sequence prediction - (Seq-to-point)"
   ]
  },
  {
   "cell_type": "markdown",
   "metadata": {
    "colab_type": "text",
    "id": "r8M1GJ_p5OkI"
   },
   "source": [
    "(1) 학습 데이터와 목표값 설정"
   ]
  },
  {
   "cell_type": "code",
   "execution_count": 24,
   "metadata": {
    "colab": {},
    "colab_type": "code",
    "id": "593yvytBqPP7"
   },
   "outputs": [],
   "source": [
    "X_train = S[:-1, :N_timesteps][:, :, np.newaxis]\n",
    "Y_train = S[:-1, N_timesteps]"
   ]
  },
  {
   "cell_type": "code",
   "execution_count": 25,
   "metadata": {
    "colab": {
     "base_uri": "https://localhost:8080/",
     "height": 36
    },
    "colab_type": "code",
    "executionInfo": {
     "elapsed": 700,
     "status": "ok",
     "timestamp": 1566233726423,
     "user": {
      "displayName": "Seokhyun Yoon",
      "photoUrl": "https://lh5.googleusercontent.com/-JfY5LFELdd4/AAAAAAAAAAI/AAAAAAAAAd4/N4htyki5fQQ/s64/photo.jpg",
      "userId": "14399968853404009011"
     },
     "user_tz": -540
    },
    "id": "cJ1X3AoYrutv",
    "outputId": "9523d690-c7ba-4f3c-aff7-55a0022bef53"
   },
   "outputs": [
    {
     "data": {
      "text/plain": [
       "((18, 3, 1), (18,))"
      ]
     },
     "execution_count": 25,
     "metadata": {},
     "output_type": "execute_result"
    }
   ],
   "source": [
    "X_train.shape, Y_train.shape"
   ]
  },
  {
   "cell_type": "markdown",
   "metadata": {
    "colab_type": "text",
    "id": "4mfoEXVy5MSb"
   },
   "source": [
    "(2) 학습 데이터와 목표 값 확인"
   ]
  },
  {
   "cell_type": "code",
   "execution_count": 26,
   "metadata": {
    "colab": {},
    "colab_type": "code",
    "id": "NIGQTX3wsvXR"
   },
   "outputs": [
    {
     "data": {
      "image/png": "[encoded data removed]",
      "text/plain": [
       "<Figure size 432x288 with 3 Axes>"
      ]
     },
     "metadata": {
      "needs_background": "light"
     },
     "output_type": "display_data"
    }
   ],
   "source": [
    "Nplt = 3\n",
    "for i in range(Nplt):\n",
    "    plt.subplot(Nplt,1,i+1)\n",
    "    plt.plot([0, 1, 2], X_train[i].flatten(), 'bo-', label=\"input sequence\")\n",
    "    plt.plot([3], Y_train[1], 'ro', label=\"target\")\n",
    "    plt.xlim(-0.5, 4.5)\n",
    "    plt.ylim(-1.1, 1.1)\n",
    "    # plt.legend()\n",
    "    plt.title(str(i) + \"th sample sequence\")\n",
    "    plt.grid\n",
    "plt.show()"
   ]
  },
  {
   "cell_type": "markdown",
   "metadata": {
    "colab_type": "text",
    "id": "1_n7uzpm5dqI"
   },
   "source": [
    "(3) 모델 생성"
   ]
  },
  {
   "cell_type": "code",
   "execution_count": 27,
   "metadata": {
    "colab": {},
    "colab_type": "code",
    "id": "Gx7YXO3Axy27"
   },
   "outputs": [],
   "source": [
    "from tensorflow.keras.models import Sequential\n",
    "from tensorflow.keras.layers import SimpleRNN, Dense\n",
    "\n",
    "N_RNN_neurons = 10\n",
    "\n",
    "np.random.seed(0)\n",
    "model = Sequential()\n",
    "model.add(SimpleRNN(N_RNN_neurons, input_shape=(N_timesteps, 1)))\n",
    "model.add(Dense(1, activation=\"linear\"))\n",
    "model.compile(loss='mse', optimizer='sgd')"
   ]
  },
  {
   "cell_type": "markdown",
   "metadata": {
    "colab_type": "text",
    "id": "VUm6l8_s0bd4"
   },
   "source": [
    "(4) 학습 전 출력 확인"
   ]
  },
  {
   "cell_type": "code",
   "execution_count": 28,
   "metadata": {
    "colab": {},
    "colab_type": "code",
    "id": "o0kV6HpUy5xm"
   },
   "outputs": [
    {
     "data": {
      "image/png": "[encoded data removed]",
      "text/plain": [
       "<Figure size 432x288 with 1 Axes>"
      ]
     },
     "metadata": {
      "needs_background": "light"
     },
     "output_type": "display_data"
    }
   ],
   "source": [
    "Y_pred = model.predict(X_train[:, :, :])\n",
    "\n",
    "plt.plot(Y_train, 'ro-', label=\"target\")\n",
    "plt.plot(Y_pred, 'bs-', label=\"output\")\n",
    "plt.xlim(-0.5, 20.5)\n",
    "plt.ylim(-1.1, 1.1)\n",
    "plt.legend()\n",
    "plt.title(\"Before training\")\n",
    "plt.show()"
   ]
  },
  {
   "cell_type": "markdown",
   "metadata": {
    "colab_type": "text",
    "id": "Ta7cBjTq01OD"
   },
   "source": [
    "(5) 모델 훈련 (학습) 및 손실함수 확인"
   ]
  },
  {
   "cell_type": "code",
   "execution_count": 29,
   "metadata": {
    "colab": {},
    "colab_type": "code",
    "id": "ZP_nATo400WZ"
   },
   "outputs": [
    {
     "name": "stdout",
     "output_type": "stream",
     "text": [
      "Training .. Epoch 1/100\n",
      "1/1 [==============================] - 0s 997us/step - loss: 0.6168\n",
      "Epoch 2/100\n",
      "1/1 [==============================] - 0s 999us/step - loss: 0.5866\n",
      "Epoch 3/100\n",
      "1/1 [==============================] - 0s 999us/step - loss: 0.5581\n",
      "Epoch 4/100\n",
      "1/1 [==============================] - 0s 0s/step - loss: 0.5310\n",
      "Epoch 5/100\n",
      "1/1 [==============================] - 0s 997us/step - loss: 0.5054\n",
      "Epoch 6/100\n",
      "1/1 [==============================] - 0s 998us/step - loss: 0.4810\n",
      "Epoch 7/100\n",
      "1/1 [==============================] - 0s 994us/step - loss: 0.4579\n",
      "Epoch 8/100\n",
      "1/1 [==============================] - 0s 0s/step - loss: 0.4359\n",
      "Epoch 9/100\n",
      "1/1 [==============================] - 0s 998us/step - loss: 0.4149\n",
      "Epoch 10/100\n",
      "1/1 [==============================] - 0s 997us/step - loss: 0.3950\n",
      "Epoch 11/100\n",
      "1/1 [==============================] - 0s 1ms/step - loss: 0.3760\n",
      "Epoch 12/100\n",
      "1/1 [==============================] - 0s 997us/step - loss: 0.3578\n",
      "Epoch 13/100\n",
      "1/1 [==============================] - 0s 997us/step - loss: 0.3405\n",
      "Epoch 14/100\n",
      "1/1 [==============================] - 0s 0s/step - loss: 0.3240\n",
      "Epoch 15/100\n",
      "1/1 [==============================] - 0s 998us/step - loss: 0.3082\n",
      "Epoch 16/100\n",
      "1/1 [==============================] - 0s 997us/step - loss: 0.2931\n",
      "Epoch 17/100\n",
      "1/1 [==============================] - 0s 998us/step - loss: 0.2787\n",
      "Epoch 18/100\n",
      "1/1 [==============================] - 0s 998us/step - loss: 0.2650\n",
      "Epoch 19/100\n",
      "1/1 [==============================] - 0s 0s/step - loss: 0.2519\n",
      "Epoch 20/100\n",
      "1/1 [==============================] - 0s 998us/step - loss: 0.2393\n",
      "Epoch 21/100\n",
      "1/1 [==============================] - 0s 998us/step - loss: 0.2273\n",
      "Epoch 22/100\n",
      "1/1 [==============================] - 0s 997us/step - loss: 0.2159\n",
      "Epoch 23/100\n",
      "1/1 [==============================] - 0s 0s/step - loss: 0.2049\n",
      "Epoch 24/100\n",
      "1/1 [==============================] - 0s 0s/step - loss: 0.1945\n",
      "Epoch 25/100\n",
      "1/1 [==============================] - 0s 997us/step - loss: 0.1845\n",
      "Epoch 26/100\n",
      "1/1 [==============================] - 0s 997us/step - loss: 0.1750\n",
      "Epoch 27/100\n",
      "1/1 [==============================] - 0s 998us/step - loss: 0.1660\n",
      "Epoch 28/100\n",
      "1/1 [==============================] - 0s 0s/step - loss: 0.1573\n",
      "Epoch 29/100\n",
      "1/1 [==============================] - 0s 1ms/step - loss: 0.1491\n",
      "Epoch 30/100\n",
      "1/1 [==============================] - 0s 0s/step - loss: 0.1412\n",
      "Epoch 31/100\n",
      "1/1 [==============================] - 0s 0s/step - loss: 0.1337\n",
      "Epoch 32/100\n",
      "1/1 [==============================] - 0s 998us/step - loss: 0.1266\n",
      "Epoch 33/100\n",
      "1/1 [==============================] - 0s 0s/step - loss: 0.1198\n",
      "Epoch 34/100\n",
      "1/1 [==============================] - 0s 997us/step - loss: 0.1134\n",
      "Epoch 35/100\n",
      "1/1 [==============================] - 0s 0s/step - loss: 0.1072\n",
      "Epoch 36/100\n",
      "1/1 [==============================] - 0s 997us/step - loss: 0.1014\n",
      "Epoch 37/100\n",
      "1/1 [==============================] - 0s 0s/step - loss: 0.0958\n",
      "Epoch 38/100\n",
      "1/1 [==============================] - 0s 997us/step - loss: 0.0906\n",
      "Epoch 39/100\n",
      "1/1 [==============================] - 0s 0s/step - loss: 0.0855\n",
      "Epoch 40/100\n",
      "1/1 [==============================] - 0s 997us/step - loss: 0.0808\n",
      "Epoch 41/100\n",
      "1/1 [==============================] - 0s 0s/step - loss: 0.0763\n",
      "Epoch 42/100\n",
      "1/1 [==============================] - 0s 998us/step - loss: 0.0720\n",
      "Epoch 43/100\n",
      "1/1 [==============================] - 0s 0s/step - loss: 0.0679\n",
      "Epoch 44/100\n",
      "1/1 [==============================] - 0s 998us/step - loss: 0.0641\n",
      "Epoch 45/100\n",
      "1/1 [==============================] - 0s 0s/step - loss: 0.0605\n",
      "Epoch 46/100\n",
      "1/1 [==============================] - 0s 997us/step - loss: 0.0570\n",
      "Epoch 47/100\n",
      "1/1 [==============================] - 0s 998us/step - loss: 0.0537\n",
      "Epoch 48/100\n",
      "1/1 [==============================] - 0s 0s/step - loss: 0.0506\n",
      "Epoch 49/100\n",
      "1/1 [==============================] - 0s 998us/step - loss: 0.0477\n",
      "Epoch 50/100\n",
      "1/1 [==============================] - 0s 997us/step - loss: 0.0449\n",
      "Epoch 51/100\n",
      "1/1 [==============================] - 0s 998us/step - loss: 0.0423\n",
      "Epoch 52/100\n",
      "1/1 [==============================] - 0s 0s/step - loss: 0.0399\n",
      "Epoch 53/100\n",
      "1/1 [==============================] - 0s 998us/step - loss: 0.0375\n",
      "Epoch 54/100\n",
      "1/1 [==============================] - 0s 998us/step - loss: 0.0353\n",
      "Epoch 55/100\n",
      "1/1 [==============================] - 0s 997us/step - loss: 0.0332\n",
      "Epoch 56/100\n",
      "1/1 [==============================] - 0s 0s/step - loss: 0.0313\n",
      "Epoch 57/100\n",
      "1/1 [==============================] - 0s 998us/step - loss: 0.0294\n",
      "Epoch 58/100\n",
      "1/1 [==============================] - 0s 0s/step - loss: 0.0277\n",
      "Epoch 59/100\n",
      "1/1 [==============================] - 0s 998us/step - loss: 0.0260\n",
      "Epoch 60/100\n",
      "1/1 [==============================] - 0s 998us/step - loss: 0.0244\n",
      "Epoch 61/100\n",
      "1/1 [==============================] - 0s 998us/step - loss: 0.0230\n",
      "Epoch 62/100\n",
      "1/1 [==============================] - 0s 0s/step - loss: 0.0216\n",
      "Epoch 63/100\n",
      "1/1 [==============================] - 0s 997us/step - loss: 0.0203\n",
      "Epoch 64/100\n",
      "1/1 [==============================] - 0s 998us/step - loss: 0.0191\n",
      "Epoch 65/100\n",
      "1/1 [==============================] - 0s 0s/step - loss: 0.0179\n",
      "Epoch 66/100\n",
      "1/1 [==============================] - 0s 998us/step - loss: 0.0168\n",
      "Epoch 67/100\n",
      "1/1 [==============================] - 0s 998us/step - loss: 0.0158\n",
      "Epoch 68/100\n",
      "1/1 [==============================] - 0s 0s/step - loss: 0.0148\n",
      "Epoch 69/100\n",
      "1/1 [==============================] - 0s 998us/step - loss: 0.0139\n",
      "Epoch 70/100\n",
      "1/1 [==============================] - 0s 0s/step - loss: 0.0131\n",
      "Epoch 71/100\n",
      "1/1 [==============================] - 0s 998us/step - loss: 0.0123\n",
      "Epoch 72/100\n",
      "1/1 [==============================] - 0s 997us/step - loss: 0.0115\n",
      "Epoch 73/100\n",
      "1/1 [==============================] - 0s 0s/step - loss: 0.0108\n",
      "Epoch 74/100\n",
      "1/1 [==============================] - 0s 995us/step - loss: 0.0101\n",
      "Epoch 75/100\n",
      "1/1 [==============================] - 0s 998us/step - loss: 0.0095\n",
      "Epoch 76/100\n",
      "1/1 [==============================] - 0s 997us/step - loss: 0.0089\n",
      "Epoch 77/100\n",
      "1/1 [==============================] - 0s 998us/step - loss: 0.0084\n",
      "Epoch 78/100\n",
      "1/1 [==============================] - 0s 0s/step - loss: 0.0079\n",
      "Epoch 79/100\n",
      "1/1 [==============================] - 0s 998us/step - loss: 0.0074\n",
      "Epoch 80/100\n",
      "1/1 [==============================] - 0s 0s/step - loss: 0.0069\n",
      "Epoch 81/100\n",
      "1/1 [==============================] - 0s 998us/step - loss: 0.0065\n",
      "Epoch 82/100\n",
      "1/1 [==============================] - 0s 0s/step - loss: 0.0061\n",
      "Epoch 83/100\n",
      "1/1 [==============================] - 0s 998us/step - loss: 0.0057\n",
      "Epoch 84/100\n",
      "1/1 [==============================] - 0s 0s/step - loss: 0.0054\n",
      "Epoch 85/100\n",
      "1/1 [==============================] - 0s 997us/step - loss: 0.0050\n",
      "Epoch 86/100\n",
      "1/1 [==============================] - 0s 998us/step - loss: 0.0047\n",
      "Epoch 87/100\n",
      "1/1 [==============================] - 0s 997us/step - loss: 0.0044\n",
      "Epoch 88/100\n",
      "1/1 [==============================] - 0s 998us/step - loss: 0.0041\n",
      "Epoch 89/100\n",
      "1/1 [==============================] - 0s 0s/step - loss: 0.0039\n",
      "Epoch 90/100\n",
      "1/1 [==============================] - 0s 0s/step - loss: 0.0036\n",
      "Epoch 91/100\n",
      "1/1 [==============================] - 0s 998us/step - loss: 0.0034\n",
      "Epoch 92/100\n",
      "1/1 [==============================] - 0s 0s/step - loss: 0.0032\n",
      "Epoch 93/100\n",
      "1/1 [==============================] - 0s 998us/step - loss: 0.0030\n",
      "Epoch 94/100\n",
      "1/1 [==============================] - 0s 998us/step - loss: 0.0028\n",
      "Epoch 95/100\n",
      "1/1 [==============================] - 0s 0s/step - loss: 0.0026\n",
      "Epoch 96/100\n",
      "1/1 [==============================] - 0s 1ms/step - loss: 0.0025\n",
      "Epoch 97/100\n",
      "1/1 [==============================] - 0s 997us/step - loss: 0.0023\n",
      "Epoch 98/100\n",
      "1/1 [==============================] - 0s 0s/step - loss: 0.0022\n",
      "Epoch 99/100\n",
      "1/1 [==============================] - 0s 998us/step - loss: 0.0020\n",
      "Epoch 100/100\n",
      "1/1 [==============================] - 0s 998us/step - loss: 0.0019\n",
      "done\n"
     ]
    }
   ],
   "source": [
    "print('Training .. ', end='')\n",
    "history = model.fit(X_train, Y_train, epochs=100, verbose=1)\n",
    "print('done')"
   ]
  },
  {
   "cell_type": "code",
   "execution_count": 30,
   "metadata": {
    "colab": {},
    "colab_type": "code",
    "id": "M4WlGSAW08X_"
   },
   "outputs": [
    {
     "data": {
      "image/png": "[encoded data removed]",
      "text/plain": [
       "<Figure size 432x288 with 1 Axes>"
      ]
     },
     "metadata": {
      "needs_background": "light"
     },
     "output_type": "display_data"
    }
   ],
   "source": [
    "plt.plot(history.history[\"loss\"])\n",
    "plt.title(\"Loss\")\n",
    "plt.show()"
   ]
  },
  {
   "cell_type": "markdown",
   "metadata": {
    "colab_type": "text",
    "id": "agjzBZ0C56-E"
   },
   "source": [
    "(6) 학습 후 출력 확인"
   ]
  },
  {
   "cell_type": "code",
   "execution_count": 31,
   "metadata": {
    "colab": {},
    "colab_type": "code",
    "id": "fFihNPmd1JCL"
   },
   "outputs": [
    {
     "data": {
      "image/png": "[encoded data removed]",
      "text/plain": [
       "<Figure size 432x288 with 1 Axes>"
      ]
     },
     "metadata": {
      "needs_background": "light"
     },
     "output_type": "display_data"
    }
   ],
   "source": [
    "plt.plot(Y_train, 'ro-', label=\"target\")\n",
    "plt.plot(model.predict(X_train[:, :, :]), 'bs-', label=\"output\")\n",
    "plt.xlim(-0.5, 20.5)\n",
    "plt.ylim(-1.1, 1.1)\n",
    "plt.legend()\n",
    "plt.title(\"After training\")\n",
    "plt.show()"
   ]
  },
  {
   "cell_type": "markdown",
   "metadata": {
    "colab_type": "text",
    "id": "gjw6ItNC1SiF"
   },
   "source": [
    "# 2. Sequence prediction (Seq-to-seq)"
   ]
  },
  {
   "cell_type": "markdown",
   "metadata": {
    "colab_type": "text",
    "id": "Ub4mwHw26LNh"
   },
   "source": [
    "(1) 학습 데이터와 목표값 설정 - 이 번에는 출력값도 길이 3짜리 순서열로"
   ]
  },
  {
   "cell_type": "code",
   "execution_count": 32,
   "metadata": {
    "colab": {
     "base_uri": "https://localhost:8080/",
     "height": 36
    },
    "colab_type": "code",
    "executionInfo": {
     "elapsed": 684,
     "status": "ok",
     "timestamp": 1566233703959,
     "user": {
      "displayName": "Seokhyun Yoon",
      "photoUrl": "https://lh5.googleusercontent.com/-JfY5LFELdd4/AAAAAAAAAAI/AAAAAAAAAd4/N4htyki5fQQ/s64/photo.jpg",
      "userId": "14399968853404009011"
     },
     "user_tz": -540
    },
    "id": "ENn3WBGj1lSl",
    "outputId": "978bcdff-fffc-461e-b38c-6bba4478fd1b"
   },
   "outputs": [
    {
     "data": {
      "text/plain": [
       "((16, 3, 1), (16, 3, 1))"
      ]
     },
     "execution_count": 32,
     "metadata": {},
     "output_type": "execute_result"
    }
   ],
   "source": [
    "X_train2 = S[:-3, 0:N_timesteps][:, :, np.newaxis]\n",
    "Y_train2 = S[:-3, N_timesteps:N_timesteps*2][:, :, np.newaxis]\n",
    "X_train2.shape, Y_train2.shape"
   ]
  },
  {
   "cell_type": "markdown",
   "metadata": {
    "colab_type": "text",
    "id": "6_Y2AO8N6LNi"
   },
   "source": [
    "(2) 학습 데이터와 목표 값 확인"
   ]
  },
  {
   "cell_type": "code",
   "execution_count": 33,
   "metadata": {
    "colab": {},
    "colab_type": "code",
    "id": "nRf--WhY11iR"
   },
   "outputs": [
    {
     "data": {
      "image/png": "[encoded data removed]",
      "text/plain": [
       "<Figure size 432x288 with 3 Axes>"
      ]
     },
     "metadata": {
      "needs_background": "light"
     },
     "output_type": "display_data"
    }
   ],
   "source": [
    "Nplt = 3\n",
    "for i in range(Nplt):\n",
    "  plt.subplot(Nplt,1,i+1)\n",
    "  plt.plot([i,i+1,i+2], X_train2[i].flatten(), 'bo-', label=\"input sequence\")\n",
    "  plt.plot([i+3, i+4, i+5], Y_train2[i].flatten(), 'ro-', label=\"target sequence\")\n",
    "  plt.xlim(-0.5, 10.5)\n",
    "  plt.legend()\n",
    "  plt.title(str(i) + \"th sample sequence\")\n",
    "  plt.grid\n",
    "  \n",
    "plt.show()"
   ]
  },
  {
   "cell_type": "markdown",
   "metadata": {
    "colab_type": "text",
    "id": "mjWbewkN6LNj"
   },
   "source": [
    "(3) 모델 생성"
   ]
  },
  {
   "cell_type": "code",
   "execution_count": 34,
   "metadata": {
    "colab": {},
    "colab_type": "code",
    "id": "1REHEpbO1XPr"
   },
   "outputs": [
    {
     "name": "stdout",
     "output_type": "stream",
     "text": [
      "Model: \"sequential_2\"\n",
      "_________________________________________________________________\n",
      "Layer (type)                 Output Shape              Param #   \n",
      "=================================================================\n",
      "simple_rnn_2 (SimpleRNN)     (None, 10)                120       \n",
      "_________________________________________________________________\n",
      "dense_2 (Dense)              (None, 1)                 11        \n",
      "=================================================================\n",
      "Total params: 131\n",
      "Trainable params: 131\n",
      "Non-trainable params: 0\n",
      "_________________________________________________________________\n"
     ]
    }
   ],
   "source": [
    "from tensorflow.keras.layers import TimeDistributed\n",
    "\n",
    "model2 = Sequential()\n",
    "model2.add(SimpleRNN(10, return_sequences=True, input_shape=(N_timesteps, 1)))\n",
    "model2.add(TimeDistributed(Dense(1, activation=\"linear\")))\n",
    "model.summary()\n",
    "\n",
    "model2.compile(loss='mse', optimizer='sgd')"
   ]
  },
  {
   "cell_type": "markdown",
   "metadata": {
    "colab_type": "text",
    "id": "RZrjSUm06LNj"
   },
   "source": [
    "(5) 모델 훈련 (학습) 및 손실함수 확인"
   ]
  },
  {
   "cell_type": "code",
   "execution_count": 35,
   "metadata": {
    "colab": {},
    "colab_type": "code",
    "id": "xzXKl5n-3Da5"
   },
   "outputs": [
    {
     "name": "stdout",
     "output_type": "stream",
     "text": [
      "Training .. done\n"
     ]
    }
   ],
   "source": [
    "print('Training .. ', end='')\n",
    "history2 = model2.fit(X_train2, Y_train2, epochs=100, verbose=0)\n",
    "print('done')"
   ]
  },
  {
   "cell_type": "code",
   "execution_count": 36,
   "metadata": {
    "colab": {},
    "colab_type": "code",
    "id": "_ohKOozc3MJw"
   },
   "outputs": [
    {
     "data": {
      "image/png": "[encoded data removed]",
      "text/plain": [
       "<Figure size 432x288 with 1 Axes>"
      ]
     },
     "metadata": {
      "needs_background": "light"
     },
     "output_type": "display_data"
    }
   ],
   "source": [
    "plt.plot(history2.history[\"loss\"])\n",
    "plt.title(\"Loss\")\n",
    "plt.show()"
   ]
  },
  {
   "cell_type": "markdown",
   "metadata": {
    "colab_type": "text",
    "id": "v2xhr7EN6LNk"
   },
   "source": [
    "(6) 학습 후 출력 확인"
   ]
  },
  {
   "cell_type": "code",
   "execution_count": 37,
   "metadata": {
    "colab": {},
    "colab_type": "code",
    "id": "XfBBG0lt37KY"
   },
   "outputs": [
    {
     "data": {
      "image/png": "[encoded data removed]",
      "text/plain": [
       "<Figure size 432x288 with 2 Axes>"
      ]
     },
     "metadata": {
      "needs_background": "light"
     },
     "output_type": "display_data"
    }
   ],
   "source": [
    "Nplt = 2\n",
    "for i in range(Nplt):\n",
    "    plt.subplot(Nplt,1,i+1)\n",
    "    plt.plot([i+1, i+2, i+3], X_train2[i+1].flatten(), 'bo-', label=\"input sequence\")\n",
    "    plt.plot([i+4, i+5, i+6], Y_train2[i+1].flatten(), 'ro-', label=\"target sequence\")\n",
    "    plt.plot([i+4, i+5, i+6], model2.predict(X_train2[(i+1):(i+2), :, :]\n",
    "                                     ).flatten(), 'gs-', label=\"output sequence\")\n",
    "    plt.xlim(-3.5, 7.5)\n",
    "    plt.ylim(-1.1, 1.1)\n",
    "    plt.legend()\n",
    "    plt.title(\"Second sample sequence\")\n",
    "    plt.grid()\n",
    "\n",
    "plt.show()"
   ]
  },
  {
   "cell_type": "code",
   "execution_count": null,
   "metadata": {},
   "outputs": [],
   "source": []
  }
 ],
 "metadata": {
  "colab": {
   "collapsed_sections": [],
   "name": "ML_practice4_RNN_seq_pred_190820.ipynb",
   "provenance": [],
   "version": "0.3.2"
  },
  "kernelspec": {
   "display_name": "Python 3",
   "language": "python",
   "name": "python3"
  },
  "language_info": {
   "codemirror_mode": {
    "name": "ipython",
    "version": 3
   },
   "file_extension": ".py",
   "mimetype": "text/x-python",
   "name": "python",
   "nbconvert_exporter": "python",
   "pygments_lexer": "ipython3",
   "version": "3.7.3"
  }
 },
 "nbformat": 4,
 "nbformat_minor": 1
}
